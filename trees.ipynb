{
 "cells": [
  {
   "cell_type": "markdown",
   "metadata": {},
   "source": [
    "# Identifying high flyers"
   ]
  },
  {
   "cell_type": "code",
   "execution_count": 2,
   "metadata": {},
   "outputs": [],
   "source": [
    "# Imports\n",
    "import numpy as np\n",
    "import pandas as pd\n",
    "import random\n",
    "from sklearn.tree import DecisionTreeClassifier\n",
    "random.seed(365)"
   ]
  },
  {
   "cell_type": "code",
   "execution_count": 3,
   "metadata": {},
   "outputs": [],
   "source": [
    "# Globals\n",
    "PCT_TRAIN = 0.6\n",
    "N_ITERS = 10"
   ]
  },
  {
   "cell_type": "code",
   "execution_count": 4,
   "metadata": {},
   "outputs": [],
   "source": [
    "# Function to fit a regression tree to data\n",
    "\n",
    "def train_test_eval(features, labels):\n",
    "    \n",
    "    n_rows = features.shape[0]\n",
    "    n_rows_training = round(PCT_TRAIN * n_rows)\n",
    "    random_index = list(range(n_rows))\n",
    "\n",
    "    # Fit the tree several times\n",
    "    for i in range(N_ITERS):\n",
    "\n",
    "        random.shuffle(random_index)\n",
    "\n",
    "        # Get training data\n",
    "        train_index = random_index[: n_rows_training]\n",
    "        train_features = features.iloc[train_index]\n",
    "        train_labels = labels[train_index]\n",
    "\n",
    "        # Get test data\n",
    "        test_index = random_index[n_rows_training :]\n",
    "        test_features = features.loc[test_index]\n",
    "        test_labels = labels[test_index]\n",
    "\n",
    "        # Create a tree using the training data\n",
    "        tree = DecisionTreeClassifier()\n",
    "        tree.fit(train_features, train_labels)\n",
    "\n",
    "        # Predict on the test data\n",
    "        predicted_labels = tree.predict(test_features)\n",
    "\n",
    "        # Calculate how well it performed\n",
    "        n_wrong = sum(test_labels != predicted_labels)\n",
    "        mcr = n_wrong / len(test_labels)\n",
    "\n",
    "        # Print out the results\n",
    "        print(\"Trial #{}: Misclassified {} of {} points | MCR = {}\".format(i + 1, n_wrong, len(test_labels), mcr))\n",
    "        \n",
    "    return    "
   ]
  },
  {
   "cell_type": "markdown",
   "metadata": {},
   "source": [
    "## `baseline.csv` data"
   ]
  },
  {
   "cell_type": "code",
   "execution_count": 5,
   "metadata": {},
   "outputs": [],
   "source": [
    "# Data cleaning\n",
    "\n",
    "# Some columns / rows have too many NAs\n",
    "baseline = pd.read_csv(\"data/baseline.csv\")\n",
    "baseline.drop(axis=\"columns\", labels=[\"rec_attended_school\", \"dist_food_market\"], inplace=True)\n",
    "baseline.dropna(axis=\"index\", how=\"any\", inplace=True)\n",
    "baseline.reset_index(inplace=True)\n",
    "baseline.drop(axis=\"columns\", labels=[\"index\"], inplace=True)\n",
    "\n",
    "# Recode \n",
    "baseline = baseline.replace(\"Willing to wait at least once\", \"1\")\n",
    "baseline = baseline.replace(\"Never willing to wait\", \"0\")\n",
    "baseline = baseline.astype({\"imp_dich\": \"int32\"})"
   ]
  },
  {
   "cell_type": "markdown",
   "metadata": {},
   "source": [
    "### `HF2` as label"
   ]
  },
  {
   "cell_type": "code",
   "execution_count": 6,
   "metadata": {},
   "outputs": [
    {
     "name": "stdout",
     "output_type": "stream",
     "text": [
      "Trial #1: Misclassified 42 of 296 points | MCR = 0.14189189189189189\n",
      "Trial #2: Misclassified 48 of 296 points | MCR = 0.16216216216216217\n",
      "Trial #3: Misclassified 48 of 296 points | MCR = 0.16216216216216217\n",
      "Trial #4: Misclassified 49 of 296 points | MCR = 0.16554054054054054\n",
      "Trial #5: Misclassified 44 of 296 points | MCR = 0.14864864864864866\n",
      "Trial #6: Misclassified 53 of 296 points | MCR = 0.17905405405405406\n",
      "Trial #7: Misclassified 45 of 296 points | MCR = 0.15202702702702703\n",
      "Trial #8: Misclassified 53 of 296 points | MCR = 0.17905405405405406\n",
      "Trial #9: Misclassified 57 of 296 points | MCR = 0.19256756756756757\n",
      "Trial #10: Misclassified 41 of 296 points | MCR = 0.13851351351351351\n"
     ]
    }
   ],
   "source": [
    "# Fit a basic classification tree to the baseline data with HF2 as labels\n",
    "\n",
    "features = baseline[[\n",
    "    \"hhsize\", \"able\", \"rec_age\", \"imp_dich\", \"future1yr\",\n",
    "    \"asst_idx\", \"lvstk_idx\", \"prod_idx\", \"any_savings\"]]\n",
    "\n",
    "labels = baseline[\"HF2\"]\n",
    "\n",
    "train_test_eval(features, labels)"
   ]
  },
  {
   "cell_type": "markdown",
   "metadata": {},
   "source": [
    "### `HF3` as label"
   ]
  },
  {
   "cell_type": "code",
   "execution_count": 7,
   "metadata": {},
   "outputs": [
    {
     "name": "stdout",
     "output_type": "stream",
     "text": [
      "Trial #1: Misclassified 108 of 296 points | MCR = 0.36486486486486486\n",
      "Trial #2: Misclassified 122 of 296 points | MCR = 0.41216216216216217\n",
      "Trial #3: Misclassified 115 of 296 points | MCR = 0.3885135135135135\n",
      "Trial #4: Misclassified 107 of 296 points | MCR = 0.3614864864864865\n",
      "Trial #5: Misclassified 118 of 296 points | MCR = 0.39864864864864863\n",
      "Trial #6: Misclassified 122 of 296 points | MCR = 0.41216216216216217\n",
      "Trial #7: Misclassified 107 of 296 points | MCR = 0.3614864864864865\n",
      "Trial #8: Misclassified 105 of 296 points | MCR = 0.3547297297297297\n",
      "Trial #9: Misclassified 104 of 296 points | MCR = 0.35135135135135137\n",
      "Trial #10: Misclassified 111 of 296 points | MCR = 0.375\n"
     ]
    }
   ],
   "source": [
    "# Fit a basic classification tree to the baseline data with HF3 as labels\n",
    "\n",
    "features = baseline[[\n",
    "    \"hhsize\", \"able\", \"rec_age\", \"imp_dich\", \"future1yr\",\n",
    "    \"asst_idx\", \"lvstk_idx\", \"prod_idx\", \"any_savings\"]]\n",
    "\n",
    "labels = baseline[\"HF3\"]\n",
    "\n",
    "train_test_eval(features, labels)"
   ]
  },
  {
   "cell_type": "markdown",
   "metadata": {},
   "source": [
    "## `denver.csv` data"
   ]
  },
  {
   "cell_type": "code",
   "execution_count": 8,
   "metadata": {},
   "outputs": [],
   "source": [
    "# Data cleaning\n",
    "\n",
    "# Some rows have NAs\n",
    "denver = pd.read_csv(\"data/denver.csv\")\n",
    "denver.dropna(axis=\"index\", how=\"any\", inplace=True)\n",
    "denver.reset_index(inplace=True)\n",
    "denver.drop(axis=\"columns\", labels=[\"index\"], inplace=True)"
   ]
  },
  {
   "cell_type": "markdown",
   "metadata": {},
   "source": [
    "### `HF2` as labels"
   ]
  },
  {
   "cell_type": "code",
   "execution_count": 9,
   "metadata": {},
   "outputs": [
    {
     "name": "stdout",
     "output_type": "stream",
     "text": [
      "Trial #1: Misclassified 48 of 304 points | MCR = 0.15789473684210525\n",
      "Trial #2: Misclassified 49 of 304 points | MCR = 0.1611842105263158\n",
      "Trial #3: Misclassified 44 of 304 points | MCR = 0.14473684210526316\n",
      "Trial #4: Misclassified 51 of 304 points | MCR = 0.16776315789473684\n",
      "Trial #5: Misclassified 60 of 304 points | MCR = 0.19736842105263158\n",
      "Trial #6: Misclassified 43 of 304 points | MCR = 0.14144736842105263\n",
      "Trial #7: Misclassified 53 of 304 points | MCR = 0.17434210526315788\n",
      "Trial #8: Misclassified 39 of 304 points | MCR = 0.12828947368421054\n",
      "Trial #9: Misclassified 46 of 304 points | MCR = 0.1513157894736842\n",
      "Trial #10: Misclassified 50 of 304 points | MCR = 0.16447368421052633\n"
     ]
    }
   ],
   "source": [
    "# Fit a basic classification tree to the denver data with HF2 as labels\n",
    "\n",
    "features = denver[[\n",
    "    \"asst_idx_z\", \"lvstk_idx_z\", \"prod_idx_z\", \"hrv_value_z\",\n",
    "    \"LGhrv_value_z\", \"exp_total_ap_z\", \"LGnfe_rev_z\",\n",
    "    \"nfe_z\", \"inc_rev_idxSD_z\", \"fin_debt_idxSD_z\"]]\n",
    "\n",
    "labels = denver[\"HF2\"]\n",
    "\n",
    "train_test_eval(features, labels)"
   ]
  },
  {
   "cell_type": "markdown",
   "metadata": {},
   "source": [
    "### `HF3` as labels"
   ]
  },
  {
   "cell_type": "code",
   "execution_count": 10,
   "metadata": {},
   "outputs": [
    {
     "name": "stdout",
     "output_type": "stream",
     "text": [
      "Trial #1: Misclassified 95 of 304 points | MCR = 0.3125\n",
      "Trial #2: Misclassified 113 of 304 points | MCR = 0.3717105263157895\n",
      "Trial #3: Misclassified 118 of 304 points | MCR = 0.3881578947368421\n",
      "Trial #4: Misclassified 106 of 304 points | MCR = 0.34868421052631576\n",
      "Trial #5: Misclassified 109 of 304 points | MCR = 0.35855263157894735\n",
      "Trial #6: Misclassified 91 of 304 points | MCR = 0.2993421052631579\n",
      "Trial #7: Misclassified 109 of 304 points | MCR = 0.35855263157894735\n",
      "Trial #8: Misclassified 100 of 304 points | MCR = 0.32894736842105265\n",
      "Trial #9: Misclassified 111 of 304 points | MCR = 0.3651315789473684\n",
      "Trial #10: Misclassified 96 of 304 points | MCR = 0.3157894736842105\n"
     ]
    }
   ],
   "source": [
    "# Fit a basic classification tree to the denver data with HF3 as labels\n",
    "\n",
    "features = denver[[\n",
    "    \"asst_idx_z\", \"lvstk_idx_z\", \"prod_idx_z\", \"hrv_value_z\",\n",
    "    \"LGhrv_value_z\", \"exp_total_ap_z\", \"LGnfe_rev_z\",\n",
    "    \"nfe_z\", \"inc_rev_idxSD_z\", \"fin_debt_idxSD_z\"]]\n",
    "\n",
    "labels = denver[\"HF3\"]\n",
    "\n",
    "train_test_eval(features, labels)"
   ]
  },
  {
   "cell_type": "code",
   "execution_count": null,
   "metadata": {},
   "outputs": [],
   "source": []
  }
 ],
 "metadata": {
  "kernelspec": {
   "display_name": "Python 3",
   "language": "python",
   "name": "python3"
  },
  "language_info": {
   "codemirror_mode": {
    "name": "ipython",
    "version": 3
   },
   "file_extension": ".py",
   "mimetype": "text/x-python",
   "name": "python",
   "nbconvert_exporter": "python",
   "pygments_lexer": "ipython3",
   "version": "3.6.4"
  }
 },
 "nbformat": 4,
 "nbformat_minor": 2
}
