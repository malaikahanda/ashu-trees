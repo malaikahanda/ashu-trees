{
 "cells": [
  {
   "cell_type": "markdown",
   "metadata": {},
   "source": [
    "# Identifying high flyers"
   ]
  },
  {
   "cell_type": "code",
   "execution_count": 34,
   "metadata": {},
   "outputs": [],
   "source": [
    "# Imports\n",
    "import math\n",
    "import numpy as np\n",
    "import pandas as pd\n",
    "import random\n",
    "from sklearn.tree import DecisionTreeRegressor\n",
    "random.seed(365)"
   ]
  },
  {
   "cell_type": "code",
   "execution_count": 35,
   "metadata": {},
   "outputs": [],
   "source": [
    "# Globals\n",
    "PCT_TRAIN = 0.6\n",
    "N_ITERS = 10"
   ]
  },
  {
   "cell_type": "code",
   "execution_count": 83,
   "metadata": {},
   "outputs": [],
   "source": [
    "# Function to fit a regression tree to data\n",
    "\n",
    "def train_test_eval(features, labels):\n",
    "    \n",
    "    n_rows = features.shape[0]\n",
    "    n_rows_training = round(PCT_TRAIN * n_rows)\n",
    "    random_index = list(range(n_rows))\n",
    "\n",
    "    # Fit the tree several times\n",
    "    for i in range(N_ITERS):\n",
    "\n",
    "        random.shuffle(random_index)\n",
    "\n",
    "        # Get training data\n",
    "        train_index = random_index[: n_rows_training]\n",
    "        train_features = features.iloc[train_index]\n",
    "        train_labels = labels[train_index]\n",
    "\n",
    "        # Get test data\n",
    "        test_index = random_index[n_rows_training :]\n",
    "        test_features = features.loc[test_index]\n",
    "        test_labels = labels[test_index]\n",
    "\n",
    "        # Create a tree using the training data\n",
    "        tree = DecisionTreeRegressor()\n",
    "        tree.fit(train_features, train_labels)\n",
    "\n",
    "        # Predict on the test data\n",
    "        predicted_labels = tree.predict(test_features)\n",
    "\n",
    "        # Calculate how well it performed\n",
    "        n_wrong = sum(test_labels != predicted_labels)\n",
    "        mcr = n_wrong / len(test_labels)\n",
    "\n",
    "        # Print out the results\n",
    "        print(\"Trial #{}: Misclassified {} of {} points | MCR = {}\".format(i + 1, n_wrong, len(test_labels), mcr))\n",
    "        \n",
    "    return    "
   ]
  },
  {
   "cell_type": "markdown",
   "metadata": {},
   "source": [
    "## `baseline.csv` data"
   ]
  },
  {
   "cell_type": "code",
   "execution_count": 84,
   "metadata": {},
   "outputs": [],
   "source": [
    "# Data cleaning\n",
    "\n",
    "# Some columns / rows have too many NAs\n",
    "baseline = pd.read_csv(\"data/baseline.csv\")\n",
    "baseline.drop(axis=\"columns\", labels=[\"rec_attended_school\", \"dist_food_market\"], inplace=True)\n",
    "baseline.dropna(axis=\"index\", how=\"any\", inplace=True)\n",
    "baseline.reset_index(inplace=True)\n",
    "baseline.drop(axis=\"columns\", labels=[\"index\"], inplace=True)\n",
    "\n",
    "# Recode \n",
    "baseline = baseline.replace(\"Willing to wait at least once\", \"1\")\n",
    "baseline = baseline.replace(\"Never willing to wait\", \"0\")\n",
    "baseline = baseline.astype({\"imp_dich\": \"int32\"})"
   ]
  },
  {
   "cell_type": "markdown",
   "metadata": {},
   "source": [
    "### `HF2` as label"
   ]
  },
  {
   "cell_type": "code",
   "execution_count": 85,
   "metadata": {},
   "outputs": [
    {
     "name": "stdout",
     "output_type": "stream",
     "text": [
      "Trial #1: Misclassified 43 of 296 points | MCR = 0.14527027027027026\n",
      "Trial #2: Misclassified 46 of 296 points | MCR = 0.1554054054054054\n",
      "Trial #3: Misclassified 52 of 296 points | MCR = 0.17567567567567569\n",
      "Trial #4: Misclassified 45 of 296 points | MCR = 0.15202702702702703\n",
      "Trial #5: Misclassified 50 of 296 points | MCR = 0.16891891891891891\n",
      "Trial #6: Misclassified 39 of 296 points | MCR = 0.13175675675675674\n",
      "Trial #7: Misclassified 59 of 296 points | MCR = 0.19932432432432431\n",
      "Trial #8: Misclassified 39 of 296 points | MCR = 0.13175675675675674\n",
      "Trial #9: Misclassified 48 of 296 points | MCR = 0.16216216216216217\n",
      "Trial #10: Misclassified 44 of 296 points | MCR = 0.14864864864864866\n"
     ]
    }
   ],
   "source": [
    "# Fit a basic classification tree to the baseline data with HF2 as labels\n",
    "\n",
    "features = baseline[[\n",
    "    \"hhsize\", \"able\", \"rec_age\", \"imp_dich\", \"future1yr\",\n",
    "    \"asst_idx\", \"lvstk_idx\", \"prod_idx\", \"any_savings\"]]\n",
    "\n",
    "labels = baseline[\"HF2\"]\n",
    "\n",
    "train_test_eval(features, labels)"
   ]
  },
  {
   "cell_type": "markdown",
   "metadata": {},
   "source": [
    "### `HF3` as label"
   ]
  },
  {
   "cell_type": "code",
   "execution_count": 62,
   "metadata": {},
   "outputs": [
    {
     "name": "stdout",
     "output_type": "stream",
     "text": [
      "Trial #1: Misclassified 112 of 296 points | MCR = 0.3783783783783784\n",
      "Trial #2: Misclassified 107 of 296 points | MCR = 0.3614864864864865\n",
      "Trial #3: Misclassified 111 of 296 points | MCR = 0.375\n",
      "Trial #4: Misclassified 93 of 296 points | MCR = 0.3141891891891892\n",
      "Trial #5: Misclassified 114 of 296 points | MCR = 0.38513513513513514\n",
      "Trial #6: Misclassified 97 of 296 points | MCR = 0.3277027027027027\n",
      "Trial #7: Misclassified 109 of 296 points | MCR = 0.36824324324324326\n",
      "Trial #8: Misclassified 116 of 296 points | MCR = 0.3918918918918919\n",
      "Trial #9: Misclassified 114 of 296 points | MCR = 0.38513513513513514\n",
      "Trial #10: Misclassified 118 of 296 points | MCR = 0.39864864864864863\n"
     ]
    }
   ],
   "source": [
    "# Fit a basic classification tree to the baseline data with HF3 as labels\n",
    "\n",
    "features = baseline[[\n",
    "    \"hhsize\", \"able\", \"rec_age\", \"imp_dich\", \"future1yr\",\n",
    "    \"asst_idx\", \"lvstk_idx\", \"prod_idx\", \"any_savings\"]]\n",
    "\n",
    "labels = baseline[\"HF3\"]\n",
    "\n",
    "train_test_eval(features, labels)"
   ]
  },
  {
   "cell_type": "markdown",
   "metadata": {},
   "source": [
    "## `denver.csv` data"
   ]
  },
  {
   "cell_type": "code",
   "execution_count": 80,
   "metadata": {},
   "outputs": [
    {
     "name": "stdout",
     "output_type": "stream",
     "text": [
      "['asst_idx_z', 'lvstk_idx_z', 'prod_idx_z', 'hrv_value_z', 'LGhrv_value_z', 'exp_total_ap_z', 'LGnfe_rev_z', 'nfe_z', 'inc_rev_idxSD_z', 'fin_debt_idxSD_z', 'qsn', 'HF1', 'HF2', 'HF3']\n"
     ]
    }
   ],
   "source": [
    "# Data cleaning\n",
    "\n",
    "# Some rows have NAs\n",
    "denver = pd.read_csv(\"data/denver.csv\")\n",
    "denver.dropna(axis=\"index\", how=\"any\", inplace=True)\n",
    "denver.reset_index(inplace=True)\n",
    "denver.drop(axis=\"columns\", labels=[\"index\"], inplace=True)"
   ]
  },
  {
   "cell_type": "markdown",
   "metadata": {},
   "source": [
    "### `HF2` as labels"
   ]
  },
  {
   "cell_type": "code",
   "execution_count": 81,
   "metadata": {},
   "outputs": [
    {
     "name": "stdout",
     "output_type": "stream",
     "text": [
      "Trial #1: Misclassified 61 of 304 points | MCR = 0.20065789473684212\n",
      "Trial #2: Misclassified 56 of 304 points | MCR = 0.18421052631578946\n",
      "Trial #3: Misclassified 51 of 304 points | MCR = 0.16776315789473684\n",
      "Trial #4: Misclassified 49 of 304 points | MCR = 0.1611842105263158\n",
      "Trial #5: Misclassified 54 of 304 points | MCR = 0.17763157894736842\n",
      "Trial #6: Misclassified 53 of 304 points | MCR = 0.17434210526315788\n",
      "Trial #7: Misclassified 49 of 304 points | MCR = 0.1611842105263158\n",
      "Trial #8: Misclassified 67 of 304 points | MCR = 0.22039473684210525\n",
      "Trial #9: Misclassified 49 of 304 points | MCR = 0.1611842105263158\n",
      "Trial #10: Misclassified 53 of 304 points | MCR = 0.17434210526315788\n"
     ]
    }
   ],
   "source": [
    "# Fit a basic classification tree to the denver data with HF2 as labels\n",
    "\n",
    "features = denver[[\n",
    "    \"asst_idx_z\", \"lvstk_idx_z\", \"prod_idx_z\", \"hrv_value_z\",\n",
    "    \"LGhrv_value_z\", \"exp_total_ap_z\", \"LGnfe_rev_z\",\n",
    "    \"nfe_z\", \"inc_rev_idxSD_z\", \"fin_debt_idxSD_z\"]]\n",
    "\n",
    "labels = denver[\"HF2\"]\n",
    "\n",
    "train_test_eval(features, labels)"
   ]
  },
  {
   "cell_type": "markdown",
   "metadata": {},
   "source": [
    "### `HF3` as labels"
   ]
  },
  {
   "cell_type": "code",
   "execution_count": 82,
   "metadata": {},
   "outputs": [
    {
     "name": "stdout",
     "output_type": "stream",
     "text": [
      "Trial #1: Misclassified 112 of 304 points | MCR = 0.3684210526315789\n",
      "Trial #2: Misclassified 102 of 304 points | MCR = 0.3355263157894737\n",
      "Trial #3: Misclassified 114 of 304 points | MCR = 0.375\n",
      "Trial #4: Misclassified 117 of 304 points | MCR = 0.3848684210526316\n",
      "Trial #5: Misclassified 97 of 304 points | MCR = 0.3190789473684211\n",
      "Trial #6: Misclassified 90 of 304 points | MCR = 0.29605263157894735\n",
      "Trial #7: Misclassified 107 of 304 points | MCR = 0.3519736842105263\n",
      "Trial #8: Misclassified 114 of 304 points | MCR = 0.375\n",
      "Trial #9: Misclassified 113 of 304 points | MCR = 0.3717105263157895\n",
      "Trial #10: Misclassified 96 of 304 points | MCR = 0.3157894736842105\n"
     ]
    }
   ],
   "source": [
    "# Fit a basic classification tree to the denver data with HF3 as labels\n",
    "\n",
    "features = denver[[\n",
    "    \"asst_idx_z\", \"lvstk_idx_z\", \"prod_idx_z\", \"hrv_value_z\",\n",
    "    \"LGhrv_value_z\", \"exp_total_ap_z\", \"LGnfe_rev_z\",\n",
    "    \"nfe_z\", \"inc_rev_idxSD_z\", \"fin_debt_idxSD_z\"]]\n",
    "\n",
    "labels = denver[\"HF3\"]\n",
    "\n",
    "train_test_eval(features, labels)"
   ]
  },
  {
   "cell_type": "code",
   "execution_count": null,
   "metadata": {},
   "outputs": [],
   "source": []
  }
 ],
 "metadata": {
  "kernelspec": {
   "display_name": "Python 3",
   "language": "python",
   "name": "python3"
  },
  "language_info": {
   "codemirror_mode": {
    "name": "ipython",
    "version": 3
   },
   "file_extension": ".py",
   "mimetype": "text/x-python",
   "name": "python",
   "nbconvert_exporter": "python",
   "pygments_lexer": "ipython3",
   "version": "3.6.4"
  }
 },
 "nbformat": 4,
 "nbformat_minor": 2
}
